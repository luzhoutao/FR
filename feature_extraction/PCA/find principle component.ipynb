{
 "cells": [
  {
   "cell_type": "markdown",
   "metadata": {},
   "source": [
    "Normally, we plot the probability distribution, and then find the best k eigen vector to form our optimal W."
   ]
  },
  {
   "cell_type": "code",
   "execution_count": 4,
   "metadata": {},
   "outputs": [
    {
     "name": "stdout",
     "output_type": "stream",
     "text": [
      "/Users/luzhoutao/study abroad/Sesame@NUS/face/RESTful_Face_Web\n"
     ]
    }
   ],
   "source": [
    "from pylab import *\n",
    "import numpy as np\n",
    "import os\n",
    "print(os.getcwd())"
   ]
  },
  {
   "cell_type": "code",
   "execution_count": 5,
   "metadata": {
    "collapsed": true
   },
   "outputs": [],
   "source": [
    "ev = np.load('/Users/luzhoutao/study abroad/Sesame@NUS/FR/feature_extraction/eigenvalue.npy')"
   ]
  },
  {
   "cell_type": "code",
   "execution_count": 6,
   "metadata": {},
   "outputs": [
    {
     "name": "stderr",
     "output_type": "stream",
     "text": [
      "/Users/luzhoutao/anaconda/envs/python3.5/lib/python3.5/site-packages/ipykernel_launcher.py:8: ComplexWarning: Casting complex values to real discards the imaginary part\n  \n/Users/luzhoutao/anaconda/envs/python3.5/lib/python3.5/site-packages/ipykernel_launcher.py:10: ComplexWarning: Casting complex values to real discards the imaginary part\n  # Remove the CWD from sys.path while we load stuff.\n"
     ]
    },
    {
     "data": {
      "image/png": "[encoded data removed]",
      "text/plain": [
       "<matplotlib.figure.Figure at 0x108461748>"
      ]
     },
     "metadata": {},
     "output_type": "display_data"
    },
    {
     "data": {
      "image/png": "[encoded data removed]",
      "text/plain": [
       "<matplotlib.figure.Figure at 0x1084618d0>"
      ]
     },
     "metadata": {},
     "output_type": "display_data"
    }
   ],
   "source": [
    "# probability density function\n",
    "ev = ev / np.sum(ev)\n",
    "\n",
    "# cumulative density function\n",
    "cdf = np.zeros(len(ev))\n",
    "for idx in range(len(ev)):\n",
    "    if idx == 0:\n",
    "        cdf[0] = ev[0]\n",
    "    else:\n",
    "        cdf[idx] = cdf[idx-1]+ev[idx]\n",
    "figure()\n",
    "plot(cdf, '.')\n",
    "show()\n",
    "\n",
    "figure()\n",
    "plot(cdf[:500], '.')\n",
    "show()"
   ]
  },
  {
   "cell_type": "code",
   "execution_count": null,
   "metadata": {},
   "outputs": [],
   "source": [
    ""
   ]
  }
 ],
 "metadata": {
  "kernelspec": {
   "display_name": "python2.7",
   "language": "python",
   "name": "python2.7"
  },
  "language_info": {
   "codemirror_mode": {
    "name": "ipython",
    "version": 2.0
   },
   "file_extension": ".py",
   "mimetype": "text/x-python",
   "name": "python",
   "nbconvert_exporter": "python",
   "pygments_lexer": "ipython2",
   "version": "2.7.13"
  }
 },
 "nbformat": 4,
 "nbformat_minor": 0
}